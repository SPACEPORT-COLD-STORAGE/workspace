{
 "cells": [
  {
   "attachments": {},
   "cell_type": "markdown",
   "metadata": {},
   "source": [
    "# 1. 라이브러리 불러오기"
   ]
  },
  {
   "cell_type": "code",
   "execution_count": 6,
   "metadata": {},
   "outputs": [],
   "source": [
    "import pandas as pd\n",
    "import numpy as np"
   ]
  },
  {
   "attachments": {},
   "cell_type": "markdown",
   "metadata": {},
   "source": [
    "# 2. 데이터 불러오기"
   ]
  },
  {
   "cell_type": "code",
   "execution_count": 7,
   "metadata": {},
   "outputs": [],
   "source": [
    "df = pd.read_csv('../data/carrier_reefer_data_01_to_08_and_12.csv')"
   ]
  },
  {
   "cell_type": "code",
   "execution_count": 8,
   "metadata": {},
   "outputs": [
    {
     "data": {
      "text/html": [
       "<div>\n",
       "<style scoped>\n",
       "    .dataframe tbody tr th:only-of-type {\n",
       "        vertical-align: middle;\n",
       "    }\n",
       "\n",
       "    .dataframe tbody tr th {\n",
       "        vertical-align: top;\n",
       "    }\n",
       "\n",
       "    .dataframe thead th {\n",
       "        text-align: right;\n",
       "    }\n",
       "</style>\n",
       "<table border=\"1\" class=\"dataframe\">\n",
       "  <thead>\n",
       "    <tr style=\"text-align: right;\">\n",
       "      <th></th>\n",
       "      <th>alarm_codes</th>\n",
       "      <th>ambient_temperature</th>\n",
       "      <th>made_cd</th>\n",
       "      <th>operating_mode</th>\n",
       "      <th>operating_mode_str</th>\n",
       "      <th>reefer_id</th>\n",
       "      <th>return_air_temperature</th>\n",
       "      <th>supply_air_temperature</th>\n",
       "      <th>temperature_setpoint</th>\n",
       "      <th>when_created</th>\n",
       "    </tr>\n",
       "  </thead>\n",
       "  <tbody>\n",
       "    <tr>\n",
       "      <th>0</th>\n",
       "      <td>NaN</td>\n",
       "      <td>-8.29</td>\n",
       "      <td>CARRIER</td>\n",
       "      <td>6.0</td>\n",
       "      <td>IDLE</td>\n",
       "      <td>RDMU5216890</td>\n",
       "      <td>2.92</td>\n",
       "      <td>3.09</td>\n",
       "      <td>3.0</td>\n",
       "      <td>2022-01-01 00:00:23</td>\n",
       "    </tr>\n",
       "    <tr>\n",
       "      <th>1</th>\n",
       "      <td>[\"AL60\"]</td>\n",
       "      <td>3.90</td>\n",
       "      <td>CARRIER</td>\n",
       "      <td>3.0</td>\n",
       "      <td>COOL</td>\n",
       "      <td>RJCU6995820</td>\n",
       "      <td>-19.83</td>\n",
       "      <td>-20.47</td>\n",
       "      <td>-20.0</td>\n",
       "      <td>2022-01-01 00:01:08</td>\n",
       "    </tr>\n",
       "    <tr>\n",
       "      <th>2</th>\n",
       "      <td>NaN</td>\n",
       "      <td>-1.06</td>\n",
       "      <td>CARRIER</td>\n",
       "      <td>6.0</td>\n",
       "      <td>IDLE</td>\n",
       "      <td>CTEU5865614</td>\n",
       "      <td>-24.43</td>\n",
       "      <td>-25.05</td>\n",
       "      <td>-24.0</td>\n",
       "      <td>2022-01-01 00:01:18</td>\n",
       "    </tr>\n",
       "    <tr>\n",
       "      <th>3</th>\n",
       "      <td>[\"dAL86\"]</td>\n",
       "      <td>9.62</td>\n",
       "      <td>CARRIER</td>\n",
       "      <td>3.0</td>\n",
       "      <td>COOL</td>\n",
       "      <td>SDCU6045746</td>\n",
       "      <td>-17.57</td>\n",
       "      <td>-19.11</td>\n",
       "      <td>-20.0</td>\n",
       "      <td>2022-01-01 00:01:26</td>\n",
       "    </tr>\n",
       "    <tr>\n",
       "      <th>4</th>\n",
       "      <td>NaN</td>\n",
       "      <td>-6.06</td>\n",
       "      <td>CARRIER</td>\n",
       "      <td>3.0</td>\n",
       "      <td>COOL</td>\n",
       "      <td>UKFU6720496</td>\n",
       "      <td>-28.10</td>\n",
       "      <td>-30.61</td>\n",
       "      <td>-30.0</td>\n",
       "      <td>2022-01-01 00:01:32</td>\n",
       "    </tr>\n",
       "  </tbody>\n",
       "</table>\n",
       "</div>"
      ],
      "text/plain": [
       "  alarm_codes  ambient_temperature  made_cd  operating_mode  \\\n",
       "0         NaN                -8.29  CARRIER             6.0   \n",
       "1    [\"AL60\"]                 3.90  CARRIER             3.0   \n",
       "2         NaN                -1.06  CARRIER             6.0   \n",
       "3   [\"dAL86\"]                 9.62  CARRIER             3.0   \n",
       "4         NaN                -6.06  CARRIER             3.0   \n",
       "\n",
       "  operating_mode_str    reefer_id  return_air_temperature  \\\n",
       "0               IDLE  RDMU5216890                    2.92   \n",
       "1               COOL  RJCU6995820                  -19.83   \n",
       "2               IDLE  CTEU5865614                  -24.43   \n",
       "3               COOL  SDCU6045746                  -17.57   \n",
       "4               COOL  UKFU6720496                  -28.10   \n",
       "\n",
       "   supply_air_temperature  temperature_setpoint         when_created  \n",
       "0                    3.09                   3.0  2022-01-01 00:00:23  \n",
       "1                  -20.47                 -20.0  2022-01-01 00:01:08  \n",
       "2                  -25.05                 -24.0  2022-01-01 00:01:18  \n",
       "3                  -19.11                 -20.0  2022-01-01 00:01:26  \n",
       "4                  -30.61                 -30.0  2022-01-01 00:01:32  "
      ]
     },
     "execution_count": 8,
     "metadata": {},
     "output_type": "execute_result"
    }
   ],
   "source": [
    "df.head()"
   ]
  },
  {
   "cell_type": "code",
   "execution_count": 9,
   "metadata": {},
   "outputs": [
    {
     "name": "stdout",
     "output_type": "stream",
     "text": [
      "<class 'pandas.core.frame.DataFrame'>\n",
      "RangeIndex: 883975 entries, 0 to 883974\n",
      "Data columns (total 10 columns):\n",
      " #   Column                  Non-Null Count   Dtype  \n",
      "---  ------                  --------------   -----  \n",
      " 0   alarm_codes             165319 non-null  object \n",
      " 1   ambient_temperature     881033 non-null  float64\n",
      " 2   made_cd                 883975 non-null  object \n",
      " 3   operating_mode          879638 non-null  float64\n",
      " 4   operating_mode_str      879638 non-null  object \n",
      " 5   reefer_id               883975 non-null  object \n",
      " 6   return_air_temperature  883975 non-null  float64\n",
      " 7   supply_air_temperature  883849 non-null  float64\n",
      " 8   temperature_setpoint    883975 non-null  float64\n",
      " 9   when_created            883975 non-null  object \n",
      "dtypes: float64(5), object(5)\n",
      "memory usage: 67.4+ MB\n"
     ]
    }
   ],
   "source": [
    "df.info()"
   ]
  },
  {
   "cell_type": "code",
   "execution_count": 10,
   "metadata": {},
   "outputs": [],
   "source": [
    "# 문자열을 datetime으로 변경\n",
    "import datetime\n",
    "\n",
    "df['when_created'] = df['when_created'].apply(lambda x: datetime.datetime.strptime(x, \"%Y-%m-%d %H:%M:%S\"))"
   ]
  },
  {
   "attachments": {},
   "cell_type": "markdown",
   "metadata": {},
   "source": [
    "# 3. DEFROST가 발생한 데이터 찾기"
   ]
  },
  {
   "attachments": {},
   "cell_type": "markdown",
   "metadata": {},
   "source": [
    "## 3-1. 설정온도가 변하지 않는 컨테이너 찾기"
   ]
  },
  {
   "cell_type": "code",
   "execution_count": 16,
   "metadata": {},
   "outputs": [
    {
     "name": "stdout",
     "output_type": "stream",
     "text": [
      "CARRIER 컨테이너의 전체 개수는 102개 입니다.\n"
     ]
    }
   ],
   "source": [
    "print(f\"CARRIER 컨테이너의 전체 개수는 {df['reefer_id'].nunique()}개 입니다.\")"
   ]
  },
  {
   "cell_type": "code",
   "execution_count": 17,
   "metadata": {},
   "outputs": [],
   "source": [
    "# 1. 컨테이너ID별로 분리\n",
    "\n",
    "# 2. 설정 온도가 냉동이면서 설정 온도가 변하지 않는 경우만 필터링"
   ]
  },
  {
   "cell_type": "code",
   "execution_count": 31,
   "metadata": {},
   "outputs": [
    {
     "data": {
      "text/plain": [
       "-20    11\n",
       "-18     4\n",
       "-25     2\n",
       "-19     2\n",
       "-3      1\n",
       "-21     1\n",
       "-17     1\n",
       "dtype: int64"
      ]
     },
     "execution_count": 31,
     "metadata": {},
     "output_type": "execute_result"
    }
   ],
   "source": [
    "import math\n",
    "\n",
    "reefer_id_list = df['reefer_id'].unique()\n",
    "temperature_list = []\n",
    "for reefer_id in reefer_id_list:\n",
    "    temperature_setpoint = df.loc[df['reefer_id'] == reefer_id, 'temperature_setpoint'].unique()\n",
    "    if len(temperature_setpoint) == 1 and temperature_setpoint[0] < 0:\n",
    "        temperature_list.append(math.floor(temperature_setpoint[0]))\n",
    "\n",
    "pd.Series(temperature_list).value_counts()"
   ]
  },
  {
   "attachments": {},
   "cell_type": "markdown",
   "metadata": {},
   "source": [
    "- 영하 20도인 데이터가 가장 많으므로 영하 20도인 데이터만 사용한다."
   ]
  },
  {
   "cell_type": "code",
   "execution_count": 36,
   "metadata": {},
   "outputs": [
    {
     "name": "stdout",
     "output_type": "stream",
     "text": [
      "RJCU6995820 31087\n",
      "BMOU9003717 21743\n",
      "CBHU2805710 47\n",
      "SKRU9200955 17\n",
      "GESU9370000 22\n",
      "SKRU8300707 2795\n",
      "CRXU5278311 7\n",
      "CWCU5722568 1766\n",
      "CCLU1038527 5\n",
      "TRIU6681373 2524\n",
      "IKRU2301291 1671\n"
     ]
    }
   ],
   "source": [
    "import math\n",
    "\n",
    "reefer_id_list = df['reefer_id'].unique()\n",
    "reefer_below_20 = []\n",
    "for reefer_id in reefer_id_list:\n",
    "    temperature_setpoint = df.loc[df['reefer_id'] == reefer_id, 'temperature_setpoint'].unique()\n",
    "    if len(temperature_setpoint) == 1 and math.floor(temperature_setpoint[0]) == -20.0:\n",
    "        print(reefer_id, df.loc[df['reefer_id'] == reefer_id].shape[0])\n",
    "        reefer_below_20.append(reefer_id)"
   ]
  },
  {
   "attachments": {},
   "cell_type": "markdown",
   "metadata": {},
   "source": [
    "## 3-2. 찾은 컨테이너에서 DEFROST가 발생한 데이터 찾기"
   ]
  },
  {
   "cell_type": "code",
   "execution_count": 47,
   "metadata": {},
   "outputs": [
    {
     "name": "stdout",
     "output_type": "stream",
     "text": [
      "RJCU6995820컨테이너의 DEFROST 발생횟수: 5303번\n",
      "BMOU9003717컨테이너의 DEFROST 발생횟수: 920번\n",
      "CBHU2805710컨테이너의 DEFROST 발생횟수: 1번\n",
      "SKRU9200955컨테이너의 DEFROST 발생횟수: 1번\n",
      "GESU9370000컨테이너의 DEFROST 발생횟수: 5번\n",
      "SKRU8300707컨테이너의 DEFROST 발생횟수: 410번\n",
      "CWCU5722568컨테이너의 DEFROST 발생횟수: 94번\n",
      "TRIU6681373컨테이너의 DEFROST 발생횟수: 62번\n",
      "IKRU2301291컨테이너의 DEFROST 발생횟수: 48번\n"
     ]
    }
   ],
   "source": [
    "reefer_in_defrost = []\n",
    "\n",
    "for reefer_id in reefer_below_20:\n",
    "    operating_mode_list = list(df.loc[df['reefer_id'] == reefer_id, 'operating_mode_str'].unique())\n",
    "    if \"DEFROST\" in operating_mode_list:\n",
    "        print(f\"{reefer_id}컨테이너의 DEFROST 발생횟수: {df.loc[df['reefer_id'] == reefer_id, 'operating_mode_str'].value_counts()['DEFROST']}번\")\n",
    "        reefer_in_defrost.append(reefer_id)"
   ]
  },
  {
   "attachments": {},
   "cell_type": "markdown",
   "metadata": {},
   "source": [
    "## 3-3. DEFROST가 시작하기 전과 끝난 이후 각각 6개의 데이터가 있는 것만 추출하기"
   ]
  },
  {
   "attachments": {},
   "cell_type": "markdown",
   "metadata": {},
   "source": [
    "- DEFROST 전후 1시간 간격으로 데이터를 끊을 생각이다."
   ]
  },
  {
   "cell_type": "code",
   "execution_count": 48,
   "metadata": {},
   "outputs": [
    {
     "data": {
      "text/plain": [
       "['RJCU6995820',\n",
       " 'BMOU9003717',\n",
       " 'CBHU2805710',\n",
       " 'SKRU9200955',\n",
       " 'GESU9370000',\n",
       " 'SKRU8300707',\n",
       " 'CWCU5722568',\n",
       " 'TRIU6681373',\n",
       " 'IKRU2301291']"
      ]
     },
     "execution_count": 48,
     "metadata": {},
     "output_type": "execute_result"
    }
   ],
   "source": [
    "reefer_in_defrost"
   ]
  },
  {
   "cell_type": "code",
   "execution_count": 49,
   "metadata": {},
   "outputs": [],
   "source": [
    "def pop_sequence_number(num_list):\n",
    "    \"\"\"\n",
    "    DEFROST가 발생한 인덱스를 뽑아내는 함수입니다.\n",
    "\n",
    "    Inputs\n",
    "    ----------\n",
    "    num_list: DEFROST가 발생한 인덱스 번호(1차원 리스트)\n",
    "\n",
    "    Return\n",
    "    ------\n",
    "    packet: DEFROST가 발생한 인덱스 번호 묶음(2차원 리스트)\n",
    "    \"\"\"\n",
    "    packet = []\n",
    "    tmp = []\n",
    "\n",
    "    v = num_list.pop(0)\n",
    "    tmp.append(v)\n",
    "\n",
    "    while (len(num_list) > 0):\n",
    "        vv = num_list.pop(0)\n",
    "        if v+1 == vv:\n",
    "            tmp.append(vv)\n",
    "            v = vv\n",
    "        else:\n",
    "            packet.append(tmp)\n",
    "            tmp = []\n",
    "            tmp.append(vv)\n",
    "            v = vv\n",
    "    \n",
    "    packet.append(tmp)\n",
    "    return packet"
   ]
  },
  {
   "cell_type": "code",
   "execution_count": 65,
   "metadata": {},
   "outputs": [],
   "source": [
    "defrost_idx_per_reefer = {}\n",
    "\n",
    "# 컨테이너별 DEFROST가 발생한 인덱스 추출\n",
    "for reefer_id in reefer_in_defrost:\n",
    "    aa = df.loc[(df['reefer_id'] == reefer_id)].reset_index(drop=True)\n",
    "    defrost_idx_per_reefer[reefer_id] = list(aa.loc[aa['operating_mode_str'] == \"DEFROST\"].index) "
   ]
  },
  {
   "cell_type": "code",
   "execution_count": 66,
   "metadata": {},
   "outputs": [],
   "source": [
    "idx = pop_sequence_number(defrost_idx_per_reefer[\"RJCU6995820\"])"
   ]
  },
  {
   "cell_type": "code",
   "execution_count": 69,
   "metadata": {},
   "outputs": [
    {
     "data": {
      "text/html": [
       "<div>\n",
       "<style scoped>\n",
       "    .dataframe tbody tr th:only-of-type {\n",
       "        vertical-align: middle;\n",
       "    }\n",
       "\n",
       "    .dataframe tbody tr th {\n",
       "        vertical-align: top;\n",
       "    }\n",
       "\n",
       "    .dataframe thead th {\n",
       "        text-align: right;\n",
       "    }\n",
       "</style>\n",
       "<table border=\"1\" class=\"dataframe\">\n",
       "  <thead>\n",
       "    <tr style=\"text-align: right;\">\n",
       "      <th></th>\n",
       "      <th>alarm_codes</th>\n",
       "      <th>ambient_temperature</th>\n",
       "      <th>made_cd</th>\n",
       "      <th>operating_mode</th>\n",
       "      <th>operating_mode_str</th>\n",
       "      <th>reefer_id</th>\n",
       "      <th>return_air_temperature</th>\n",
       "      <th>supply_air_temperature</th>\n",
       "      <th>temperature_setpoint</th>\n",
       "      <th>when_created</th>\n",
       "    </tr>\n",
       "  </thead>\n",
       "  <tbody>\n",
       "    <tr>\n",
       "      <th>123</th>\n",
       "      <td>[\"AL60\"]</td>\n",
       "      <td>6.27</td>\n",
       "      <td>CARRIER</td>\n",
       "      <td>5.0</td>\n",
       "      <td>DEFROST</td>\n",
       "      <td>RJCU6995820</td>\n",
       "      <td>-19.15</td>\n",
       "      <td>-19.35</td>\n",
       "      <td>-20.0</td>\n",
       "      <td>2022-01-01 21:05:44</td>\n",
       "    </tr>\n",
       "    <tr>\n",
       "      <th>124</th>\n",
       "      <td>[\"AL60\"]</td>\n",
       "      <td>4.84</td>\n",
       "      <td>CARRIER</td>\n",
       "      <td>5.0</td>\n",
       "      <td>DEFROST</td>\n",
       "      <td>RJCU6995820</td>\n",
       "      <td>-16.95</td>\n",
       "      <td>-17.68</td>\n",
       "      <td>-20.0</td>\n",
       "      <td>2022-01-01 21:16:16</td>\n",
       "    </tr>\n",
       "    <tr>\n",
       "      <th>125</th>\n",
       "      <td>[\"AL60\"]</td>\n",
       "      <td>3.10</td>\n",
       "      <td>CARRIER</td>\n",
       "      <td>5.0</td>\n",
       "      <td>DEFROST</td>\n",
       "      <td>RJCU6995820</td>\n",
       "      <td>-12.24</td>\n",
       "      <td>-16.73</td>\n",
       "      <td>-20.0</td>\n",
       "      <td>2022-01-01 21:26:42</td>\n",
       "    </tr>\n",
       "    <tr>\n",
       "      <th>126</th>\n",
       "      <td>[\"AL60\"]</td>\n",
       "      <td>1.91</td>\n",
       "      <td>CARRIER</td>\n",
       "      <td>5.0</td>\n",
       "      <td>DEFROST</td>\n",
       "      <td>RJCU6995820</td>\n",
       "      <td>-8.33</td>\n",
       "      <td>-15.94</td>\n",
       "      <td>-20.0</td>\n",
       "      <td>2022-01-01 21:36:57</td>\n",
       "    </tr>\n",
       "    <tr>\n",
       "      <th>127</th>\n",
       "      <td>[\"AL60\"]</td>\n",
       "      <td>1.20</td>\n",
       "      <td>CARRIER</td>\n",
       "      <td>5.0</td>\n",
       "      <td>DEFROST</td>\n",
       "      <td>RJCU6995820</td>\n",
       "      <td>-5.66</td>\n",
       "      <td>-15.42</td>\n",
       "      <td>-20.0</td>\n",
       "      <td>2022-01-01 21:47:04</td>\n",
       "    </tr>\n",
       "    <tr>\n",
       "      <th>128</th>\n",
       "      <td>[\"AL60\"]</td>\n",
       "      <td>0.70</td>\n",
       "      <td>CARRIER</td>\n",
       "      <td>5.0</td>\n",
       "      <td>DEFROST</td>\n",
       "      <td>RJCU6995820</td>\n",
       "      <td>-4.23</td>\n",
       "      <td>-15.08</td>\n",
       "      <td>-20.0</td>\n",
       "      <td>2022-01-01 21:57:24</td>\n",
       "    </tr>\n",
       "    <tr>\n",
       "      <th>129</th>\n",
       "      <td>[\"AL60\"]</td>\n",
       "      <td>0.42</td>\n",
       "      <td>CARRIER</td>\n",
       "      <td>5.0</td>\n",
       "      <td>DEFROST</td>\n",
       "      <td>RJCU6995820</td>\n",
       "      <td>-3.13</td>\n",
       "      <td>-14.62</td>\n",
       "      <td>-20.0</td>\n",
       "      <td>2022-01-01 22:07:28</td>\n",
       "    </tr>\n",
       "    <tr>\n",
       "      <th>130</th>\n",
       "      <td>[\"AL60\"]</td>\n",
       "      <td>0.17</td>\n",
       "      <td>CARRIER</td>\n",
       "      <td>5.0</td>\n",
       "      <td>DEFROST</td>\n",
       "      <td>RJCU6995820</td>\n",
       "      <td>-1.83</td>\n",
       "      <td>-14.25</td>\n",
       "      <td>-20.0</td>\n",
       "      <td>2022-01-01 22:17:38</td>\n",
       "    </tr>\n",
       "    <tr>\n",
       "      <th>131</th>\n",
       "      <td>[\"AL60\"]</td>\n",
       "      <td>-0.14</td>\n",
       "      <td>CARRIER</td>\n",
       "      <td>5.0</td>\n",
       "      <td>DEFROST</td>\n",
       "      <td>RJCU6995820</td>\n",
       "      <td>-0.41</td>\n",
       "      <td>-13.83</td>\n",
       "      <td>-20.0</td>\n",
       "      <td>2022-01-01 22:28:00</td>\n",
       "    </tr>\n",
       "    <tr>\n",
       "      <th>132</th>\n",
       "      <td>[\"AL60\"]</td>\n",
       "      <td>-0.41</td>\n",
       "      <td>CARRIER</td>\n",
       "      <td>5.0</td>\n",
       "      <td>DEFROST</td>\n",
       "      <td>RJCU6995820</td>\n",
       "      <td>0.82</td>\n",
       "      <td>-13.56</td>\n",
       "      <td>-20.0</td>\n",
       "      <td>2022-01-01 22:38:04</td>\n",
       "    </tr>\n",
       "    <tr>\n",
       "      <th>133</th>\n",
       "      <td>[\"AL60\"]</td>\n",
       "      <td>-0.65</td>\n",
       "      <td>CARRIER</td>\n",
       "      <td>5.0</td>\n",
       "      <td>DEFROST</td>\n",
       "      <td>RJCU6995820</td>\n",
       "      <td>1.99</td>\n",
       "      <td>-13.25</td>\n",
       "      <td>-20.0</td>\n",
       "      <td>2022-01-01 22:48:13</td>\n",
       "    </tr>\n",
       "  </tbody>\n",
       "</table>\n",
       "</div>"
      ],
      "text/plain": [
       "    alarm_codes  ambient_temperature  made_cd  operating_mode  \\\n",
       "123    [\"AL60\"]                 6.27  CARRIER             5.0   \n",
       "124    [\"AL60\"]                 4.84  CARRIER             5.0   \n",
       "125    [\"AL60\"]                 3.10  CARRIER             5.0   \n",
       "126    [\"AL60\"]                 1.91  CARRIER             5.0   \n",
       "127    [\"AL60\"]                 1.20  CARRIER             5.0   \n",
       "128    [\"AL60\"]                 0.70  CARRIER             5.0   \n",
       "129    [\"AL60\"]                 0.42  CARRIER             5.0   \n",
       "130    [\"AL60\"]                 0.17  CARRIER             5.0   \n",
       "131    [\"AL60\"]                -0.14  CARRIER             5.0   \n",
       "132    [\"AL60\"]                -0.41  CARRIER             5.0   \n",
       "133    [\"AL60\"]                -0.65  CARRIER             5.0   \n",
       "\n",
       "    operating_mode_str    reefer_id  return_air_temperature  \\\n",
       "123            DEFROST  RJCU6995820                  -19.15   \n",
       "124            DEFROST  RJCU6995820                  -16.95   \n",
       "125            DEFROST  RJCU6995820                  -12.24   \n",
       "126            DEFROST  RJCU6995820                   -8.33   \n",
       "127            DEFROST  RJCU6995820                   -5.66   \n",
       "128            DEFROST  RJCU6995820                   -4.23   \n",
       "129            DEFROST  RJCU6995820                   -3.13   \n",
       "130            DEFROST  RJCU6995820                   -1.83   \n",
       "131            DEFROST  RJCU6995820                   -0.41   \n",
       "132            DEFROST  RJCU6995820                    0.82   \n",
       "133            DEFROST  RJCU6995820                    1.99   \n",
       "\n",
       "     supply_air_temperature  temperature_setpoint        when_created  \n",
       "123                  -19.35                 -20.0 2022-01-01 21:05:44  \n",
       "124                  -17.68                 -20.0 2022-01-01 21:16:16  \n",
       "125                  -16.73                 -20.0 2022-01-01 21:26:42  \n",
       "126                  -15.94                 -20.0 2022-01-01 21:36:57  \n",
       "127                  -15.42                 -20.0 2022-01-01 21:47:04  \n",
       "128                  -15.08                 -20.0 2022-01-01 21:57:24  \n",
       "129                  -14.62                 -20.0 2022-01-01 22:07:28  \n",
       "130                  -14.25                 -20.0 2022-01-01 22:17:38  \n",
       "131                  -13.83                 -20.0 2022-01-01 22:28:00  \n",
       "132                  -13.56                 -20.0 2022-01-01 22:38:04  \n",
       "133                  -13.25                 -20.0 2022-01-01 22:48:13  "
      ]
     },
     "execution_count": 69,
     "metadata": {},
     "output_type": "execute_result"
    }
   ],
   "source": [
    "aa = df.loc[(df['reefer_id'] == \"RJCU6995820\")].reset_index(drop=True)\n",
    "aa.iloc[idx[0][0]:idx[0][-1]]"
   ]
  },
  {
   "cell_type": "code",
   "execution_count": 68,
   "metadata": {},
   "outputs": [
    {
     "data": {
      "text/plain": [
       "597"
      ]
     },
     "execution_count": 68,
     "metadata": {},
     "output_type": "execute_result"
    }
   ],
   "source": [
    "len(idx)"
   ]
  },
  {
   "attachments": {},
   "cell_type": "markdown",
   "metadata": {},
   "source": [
    "# 4. 시계열 데이터를 이미지로 변환하기"
   ]
  },
  {
   "attachments": {},
   "cell_type": "markdown",
   "metadata": {},
   "source": [
    "## 4-1. PAA로 추출한 시계열 데이터의 간격 맞추기"
   ]
  },
  {
   "attachments": {},
   "cell_type": "markdown",
   "metadata": {},
   "source": [
    "## 4-2. 시계열 데이터의 4가지 센서 데이터를 분할하고 전치시키기"
   ]
  },
  {
   "attachments": {},
   "cell_type": "markdown",
   "metadata": {},
   "source": [
    "## 4-3. GAFS, GAFD 방식을 각각 적용하여 이미지로 변환하기"
   ]
  }
 ],
 "metadata": {
  "kernelspec": {
   "display_name": "base",
   "language": "python",
   "name": "python3"
  },
  "language_info": {
   "codemirror_mode": {
    "name": "ipython",
    "version": 3
   },
   "file_extension": ".py",
   "mimetype": "text/x-python",
   "name": "python",
   "nbconvert_exporter": "python",
   "pygments_lexer": "ipython3",
   "version": "3.9.12 (main, Apr  4 2022, 05:22:27) [MSC v.1916 64 bit (AMD64)]"
  },
  "orig_nbformat": 4,
  "vscode": {
   "interpreter": {
    "hash": "ad2bdc8ecc057115af97d19610ffacc2b4e99fae6737bb82f5d7fb13d2f2c186"
   }
  }
 },
 "nbformat": 4,
 "nbformat_minor": 2
}
